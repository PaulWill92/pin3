{
 "cells": [
  {
   "cell_type": "markdown",
   "metadata": {},
   "source": [
    "# MOD 3 PROJECT"
   ]
  },
  {
   "cell_type": "markdown",
   "metadata": {},
   "source": [
    "For this project i used wine review data sourced from kaggle https://www.kaggle.com/kabure/wine-review-s-eda-recommend-systems. The intention of this project is to complete statistical and hypothesis testing to generate analytical insights that could be useful to potential stakeholders and other people of interest. "
   ]
  },
  {
   "cell_type": "markdown",
   "metadata": {},
   "source": [
    "# <b>STAKEHOLDERS"
   ]
  },
  {
   "cell_type": "markdown",
   "metadata": {},
   "source": [
    "The indended audience for this analysis is the owners of wineries, people that enjoy drinking and people interested in wines or the wine industry."
   ]
  },
  {
   "cell_type": "markdown",
   "metadata": {},
   "source": [
    "# <B> HYPOTHESIS"
   ]
  },
  {
   "cell_type": "markdown",
   "metadata": {},
   "source": [
    "<b>Hypothesis 1:</b> Europe has higher mean price than the rest of the world\n",
    "    <br>h0: Europe price mean = World price mean\n",
    "    <br>ha: Europe price mean > World price mean\n",
    "    \n",
    "<b>Hypothesis 2:</b> Europe has higher rated wines\n",
    "    <br>h0:Europe = World\n",
    "    <br>ha: Europe > World\n",
    "    \n",
    "<b>Hypothsis 3:</b> Most of the top varietys of wines are produced in Europe\n",
    "    <br>h0: Not in Europe\n",
    "    <br>ha: in Europe"
   ]
  },
  {
   "cell_type": "markdown",
   "metadata": {},
   "source": [
    "<br><br>"
   ]
  },
  {
   "cell_type": "markdown",
   "metadata": {},
   "source": [
    "# CLEANING"
   ]
  },
  {
   "cell_type": "markdown",
   "metadata": {},
   "source": [
    "<b>Importing necessary packages"
   ]
  },
  {
   "cell_type": "code",
   "execution_count": 785,
   "metadata": {},
   "outputs": [],
   "source": [
    "#importing necessary packages\n",
    "import numpy as np\n",
    "from scipy import stats \n",
    "import math\n",
    "import statsmodels.api as sm \n",
    "import pylab as py \n",
    "\n",
    "import seaborn as sns\n",
    "import matplotlib.pyplot as plt\n",
    "%matplotlib inline\n",
    "\n",
    "import statsmodels.api as sm\n",
    "from statsmodels.formula.api import ols\n",
    "\n",
    "#importing pandas and the csv files\n",
    "import pandas as pd\n",
    "df = pd.read_csv('winemag-data_first150k.csv')"
   ]
  },
  {
   "cell_type": "markdown",
   "metadata": {},
   "source": [
    "<b>Looking through the dataset"
   ]
  },
  {
   "cell_type": "code",
   "execution_count": 786,
   "metadata": {},
   "outputs": [
    {
     "data": {
      "text/plain": [
       "(150930, 11)"
      ]
     },
     "execution_count": 786,
     "metadata": {},
     "output_type": "execute_result"
    }
   ],
   "source": [
    "#looking at the shape and the length of the dataframe\n",
    "df.shape"
   ]
  },
  {
   "cell_type": "code",
   "execution_count": 841,
   "metadata": {},
   "outputs": [
    {
     "name": "stdout",
     "output_type": "stream",
     "text": [
      "<class 'pandas.core.frame.DataFrame'>\n",
      "RangeIndex: 137230 entries, 0 to 137229\n",
      "Data columns (total 12 columns):\n",
      "Unnamed: 0     137230 non-null int64\n",
      "country        137230 non-null object\n",
      "description    137230 non-null object\n",
      "designation    94919 non-null object\n",
      "points         137230 non-null int64\n",
      "price          137230 non-null float64\n",
      "province       137230 non-null object\n",
      "region_1       114393 non-null object\n",
      "region_2       60704 non-null object\n",
      "variety        137230 non-null object\n",
      "winery         137230 non-null object\n",
      "continent      137230 non-null object\n",
      "dtypes: float64(1), int64(2), object(9)\n",
      "memory usage: 12.6+ MB\n"
     ]
    }
   ],
   "source": [
    "#checking the types of data within the dataframe\n",
    "df.info()"
   ]
  },
  {
   "cell_type": "code",
   "execution_count": 787,
   "metadata": {},
   "outputs": [
    {
     "data": {
      "text/html": [
       "<div>\n",
       "<style scoped>\n",
       "    .dataframe tbody tr th:only-of-type {\n",
       "        vertical-align: middle;\n",
       "    }\n",
       "\n",
       "    .dataframe tbody tr th {\n",
       "        vertical-align: top;\n",
       "    }\n",
       "\n",
       "    .dataframe thead th {\n",
       "        text-align: right;\n",
       "    }\n",
       "</style>\n",
       "<table border=\"1\" class=\"dataframe\">\n",
       "  <thead>\n",
       "    <tr style=\"text-align: right;\">\n",
       "      <th></th>\n",
       "      <th>Unnamed: 0</th>\n",
       "      <th>country</th>\n",
       "      <th>description</th>\n",
       "      <th>designation</th>\n",
       "      <th>points</th>\n",
       "      <th>price</th>\n",
       "      <th>province</th>\n",
       "      <th>region_1</th>\n",
       "      <th>region_2</th>\n",
       "      <th>variety</th>\n",
       "      <th>winery</th>\n",
       "    </tr>\n",
       "  </thead>\n",
       "  <tbody>\n",
       "    <tr>\n",
       "      <td>0</td>\n",
       "      <td>0</td>\n",
       "      <td>US</td>\n",
       "      <td>This tremendous 100% varietal wine hails from ...</td>\n",
       "      <td>Martha's Vineyard</td>\n",
       "      <td>96</td>\n",
       "      <td>235.0</td>\n",
       "      <td>California</td>\n",
       "      <td>Napa Valley</td>\n",
       "      <td>Napa</td>\n",
       "      <td>Cabernet Sauvignon</td>\n",
       "      <td>Heitz</td>\n",
       "    </tr>\n",
       "    <tr>\n",
       "      <td>1</td>\n",
       "      <td>1</td>\n",
       "      <td>Spain</td>\n",
       "      <td>Ripe aromas of fig, blackberry and cassis are ...</td>\n",
       "      <td>Carodorum Selección Especial Reserva</td>\n",
       "      <td>96</td>\n",
       "      <td>110.0</td>\n",
       "      <td>Northern Spain</td>\n",
       "      <td>Toro</td>\n",
       "      <td>NaN</td>\n",
       "      <td>Tinta de Toro</td>\n",
       "      <td>Bodega Carmen Rodríguez</td>\n",
       "    </tr>\n",
       "    <tr>\n",
       "      <td>2</td>\n",
       "      <td>2</td>\n",
       "      <td>US</td>\n",
       "      <td>Mac Watson honors the memory of a wine once ma...</td>\n",
       "      <td>Special Selected Late Harvest</td>\n",
       "      <td>96</td>\n",
       "      <td>90.0</td>\n",
       "      <td>California</td>\n",
       "      <td>Knights Valley</td>\n",
       "      <td>Sonoma</td>\n",
       "      <td>Sauvignon Blanc</td>\n",
       "      <td>Macauley</td>\n",
       "    </tr>\n",
       "    <tr>\n",
       "      <td>3</td>\n",
       "      <td>3</td>\n",
       "      <td>US</td>\n",
       "      <td>This spent 20 months in 30% new French oak, an...</td>\n",
       "      <td>Reserve</td>\n",
       "      <td>96</td>\n",
       "      <td>65.0</td>\n",
       "      <td>Oregon</td>\n",
       "      <td>Willamette Valley</td>\n",
       "      <td>Willamette Valley</td>\n",
       "      <td>Pinot Noir</td>\n",
       "      <td>Ponzi</td>\n",
       "    </tr>\n",
       "    <tr>\n",
       "      <td>4</td>\n",
       "      <td>4</td>\n",
       "      <td>France</td>\n",
       "      <td>This is the top wine from La Bégude, named aft...</td>\n",
       "      <td>La Brûlade</td>\n",
       "      <td>95</td>\n",
       "      <td>66.0</td>\n",
       "      <td>Provence</td>\n",
       "      <td>Bandol</td>\n",
       "      <td>NaN</td>\n",
       "      <td>Provence red blend</td>\n",
       "      <td>Domaine de la Bégude</td>\n",
       "    </tr>\n",
       "  </tbody>\n",
       "</table>\n",
       "</div>"
      ],
      "text/plain": [
       "   Unnamed: 0 country                                        description  \\\n",
       "0           0      US  This tremendous 100% varietal wine hails from ...   \n",
       "1           1   Spain  Ripe aromas of fig, blackberry and cassis are ...   \n",
       "2           2      US  Mac Watson honors the memory of a wine once ma...   \n",
       "3           3      US  This spent 20 months in 30% new French oak, an...   \n",
       "4           4  France  This is the top wine from La Bégude, named aft...   \n",
       "\n",
       "                            designation  points  price        province  \\\n",
       "0                     Martha's Vineyard      96  235.0      California   \n",
       "1  Carodorum Selección Especial Reserva      96  110.0  Northern Spain   \n",
       "2         Special Selected Late Harvest      96   90.0      California   \n",
       "3                               Reserve      96   65.0          Oregon   \n",
       "4                            La Brûlade      95   66.0        Provence   \n",
       "\n",
       "            region_1           region_2             variety  \\\n",
       "0        Napa Valley               Napa  Cabernet Sauvignon   \n",
       "1               Toro                NaN       Tinta de Toro   \n",
       "2     Knights Valley             Sonoma     Sauvignon Blanc   \n",
       "3  Willamette Valley  Willamette Valley          Pinot Noir   \n",
       "4             Bandol                NaN  Provence red blend   \n",
       "\n",
       "                    winery  \n",
       "0                    Heitz  \n",
       "1  Bodega Carmen Rodríguez  \n",
       "2                 Macauley  \n",
       "3                    Ponzi  \n",
       "4     Domaine de la Bégude  "
      ]
     },
     "execution_count": 787,
     "metadata": {},
     "output_type": "execute_result"
    }
   ],
   "source": [
    "#checking the data\n",
    "df.head()"
   ]
  },
  {
   "cell_type": "code",
   "execution_count": 788,
   "metadata": {},
   "outputs": [
    {
     "data": {
      "text/html": [
       "<div>\n",
       "<style scoped>\n",
       "    .dataframe tbody tr th:only-of-type {\n",
       "        vertical-align: middle;\n",
       "    }\n",
       "\n",
       "    .dataframe tbody tr th {\n",
       "        vertical-align: top;\n",
       "    }\n",
       "\n",
       "    .dataframe thead th {\n",
       "        text-align: right;\n",
       "    }\n",
       "</style>\n",
       "<table border=\"1\" class=\"dataframe\">\n",
       "  <thead>\n",
       "    <tr style=\"text-align: right;\">\n",
       "      <th></th>\n",
       "      <th>Unnamed: 0</th>\n",
       "      <th>points</th>\n",
       "      <th>price</th>\n",
       "    </tr>\n",
       "  </thead>\n",
       "  <tbody>\n",
       "    <tr>\n",
       "      <td>count</td>\n",
       "      <td>150930.000000</td>\n",
       "      <td>150930.000000</td>\n",
       "      <td>137235.000000</td>\n",
       "    </tr>\n",
       "    <tr>\n",
       "      <td>mean</td>\n",
       "      <td>75464.500000</td>\n",
       "      <td>87.888418</td>\n",
       "      <td>33.131482</td>\n",
       "    </tr>\n",
       "    <tr>\n",
       "      <td>std</td>\n",
       "      <td>43569.882402</td>\n",
       "      <td>3.222392</td>\n",
       "      <td>36.322536</td>\n",
       "    </tr>\n",
       "    <tr>\n",
       "      <td>min</td>\n",
       "      <td>0.000000</td>\n",
       "      <td>80.000000</td>\n",
       "      <td>4.000000</td>\n",
       "    </tr>\n",
       "    <tr>\n",
       "      <td>25%</td>\n",
       "      <td>37732.250000</td>\n",
       "      <td>86.000000</td>\n",
       "      <td>16.000000</td>\n",
       "    </tr>\n",
       "    <tr>\n",
       "      <td>50%</td>\n",
       "      <td>75464.500000</td>\n",
       "      <td>88.000000</td>\n",
       "      <td>24.000000</td>\n",
       "    </tr>\n",
       "    <tr>\n",
       "      <td>75%</td>\n",
       "      <td>113196.750000</td>\n",
       "      <td>90.000000</td>\n",
       "      <td>40.000000</td>\n",
       "    </tr>\n",
       "    <tr>\n",
       "      <td>max</td>\n",
       "      <td>150929.000000</td>\n",
       "      <td>100.000000</td>\n",
       "      <td>2300.000000</td>\n",
       "    </tr>\n",
       "  </tbody>\n",
       "</table>\n",
       "</div>"
      ],
      "text/plain": [
       "          Unnamed: 0         points          price\n",
       "count  150930.000000  150930.000000  137235.000000\n",
       "mean    75464.500000      87.888418      33.131482\n",
       "std     43569.882402       3.222392      36.322536\n",
       "min         0.000000      80.000000       4.000000\n",
       "25%     37732.250000      86.000000      16.000000\n",
       "50%     75464.500000      88.000000      24.000000\n",
       "75%    113196.750000      90.000000      40.000000\n",
       "max    150929.000000     100.000000    2300.000000"
      ]
     },
     "execution_count": 788,
     "metadata": {},
     "output_type": "execute_result"
    }
   ],
   "source": [
    "#checking min, max and mean prices and points\n",
    "df.describe()"
   ]
  },
  {
   "cell_type": "code",
   "execution_count": 789,
   "metadata": {},
   "outputs": [
    {
     "data": {
      "text/plain": [
       "US        62397\n",
       "Italy     23478\n",
       "France    21098\n",
       "Spain      8268\n",
       "Chile      5816\n",
       "Name: country, dtype: int64"
      ]
     },
     "execution_count": 789,
     "metadata": {},
     "output_type": "execute_result"
    }
   ],
   "source": [
    "#counting the number of countries within the data frame\n",
    "df.country.value_counts().head()"
   ]
  },
  {
   "cell_type": "code",
   "execution_count": 790,
   "metadata": {},
   "outputs": [],
   "source": [
    "#dropping the nan values within country and the price column\n",
    "df.dropna(subset=['country','price'], inplace=True)"
   ]
  },
  {
   "cell_type": "code",
   "execution_count": 791,
   "metadata": {},
   "outputs": [
    {
     "data": {
      "text/plain": [
       "(137230, 11)"
      ]
     },
     "execution_count": 791,
     "metadata": {},
     "output_type": "execute_result"
    }
   ],
   "source": [
    "#checking the shape to check if the changes have been made\n",
    "#about 20,000 rows with nan values have been removes\n",
    "df.shape"
   ]
  },
  {
   "cell_type": "code",
   "execution_count": 792,
   "metadata": {},
   "outputs": [],
   "source": [
    "#found an outlier within the data\n",
    "df_US_FRA = df.country =='US-France'"
   ]
  },
  {
   "cell_type": "code",
   "execution_count": 793,
   "metadata": {},
   "outputs": [
    {
     "data": {
      "text/plain": [
       "False    137229\n",
       "True          1\n",
       "Name: country, dtype: int64"
      ]
     },
     "execution_count": 793,
     "metadata": {},
     "output_type": "execute_result"
    }
   ],
   "source": [
    "#checking the amount of times this has appeared to check if it was an error\n",
    "df_US_FRA.value_counts()"
   ]
  },
  {
   "cell_type": "code",
   "execution_count": 794,
   "metadata": {},
   "outputs": [
    {
     "data": {
      "text/plain": [
       "array(['US', 'Spain', 'France', 'Italy', 'New Zealand', 'Bulgaria',\n",
       "       'Argentina', 'Australia', 'Portugal', 'Israel', 'South Africa',\n",
       "       'Greece', 'Chile', 'Morocco', 'Romania', 'Germany', 'Canada',\n",
       "       'Moldova', 'Hungary', 'Austria', 'Croatia', 'Slovenia', 'India',\n",
       "       'Turkey', 'Macedonia', 'Lebanon', 'Serbia', 'Uruguay',\n",
       "       'Switzerland', 'Albania', 'Bosnia and Herzegovina', 'Brazil',\n",
       "       'Cyprus', 'Lithuania', 'Japan', 'China', 'South Korea', 'Ukraine',\n",
       "       'England', 'Mexico', 'Georgia', 'Montenegro', 'Luxembourg',\n",
       "       'Slovakia', 'Czech Republic', 'US-France'], dtype=object)"
      ]
     },
     "execution_count": 794,
     "metadata": {},
     "output_type": "execute_result"
    }
   ],
   "source": [
    "#looking at the different types of countries within the country column\n",
    "df.country.unique()"
   ]
  },
  {
   "cell_type": "code",
   "execution_count": 795,
   "metadata": {},
   "outputs": [
    {
     "data": {
      "text/html": [
       "<div>\n",
       "<style scoped>\n",
       "    .dataframe tbody tr th:only-of-type {\n",
       "        vertical-align: middle;\n",
       "    }\n",
       "\n",
       "    .dataframe tbody tr th {\n",
       "        vertical-align: top;\n",
       "    }\n",
       "\n",
       "    .dataframe thead th {\n",
       "        text-align: right;\n",
       "    }\n",
       "</style>\n",
       "<table border=\"1\" class=\"dataframe\">\n",
       "  <thead>\n",
       "    <tr style=\"text-align: right;\">\n",
       "      <th></th>\n",
       "      <th>Unnamed: 0</th>\n",
       "      <th>country</th>\n",
       "      <th>description</th>\n",
       "      <th>designation</th>\n",
       "      <th>points</th>\n",
       "      <th>price</th>\n",
       "      <th>province</th>\n",
       "      <th>region_1</th>\n",
       "      <th>region_2</th>\n",
       "      <th>variety</th>\n",
       "      <th>winery</th>\n",
       "      <th>continent</th>\n",
       "    </tr>\n",
       "  </thead>\n",
       "  <tbody>\n",
       "    <tr>\n",
       "      <td>0</td>\n",
       "      <td>0</td>\n",
       "      <td>US</td>\n",
       "      <td>This tremendous 100% varietal wine hails from ...</td>\n",
       "      <td>Martha's Vineyard</td>\n",
       "      <td>96</td>\n",
       "      <td>235.0</td>\n",
       "      <td>California</td>\n",
       "      <td>Napa Valley</td>\n",
       "      <td>Napa</td>\n",
       "      <td>Cabernet Sauvignon</td>\n",
       "      <td>Heitz</td>\n",
       "      <td>North America</td>\n",
       "    </tr>\n",
       "    <tr>\n",
       "      <td>1</td>\n",
       "      <td>1</td>\n",
       "      <td>Spain</td>\n",
       "      <td>Ripe aromas of fig, blackberry and cassis are ...</td>\n",
       "      <td>Carodorum Selección Especial Reserva</td>\n",
       "      <td>96</td>\n",
       "      <td>110.0</td>\n",
       "      <td>Northern Spain</td>\n",
       "      <td>Toro</td>\n",
       "      <td>NaN</td>\n",
       "      <td>Tinta de Toro</td>\n",
       "      <td>Bodega Carmen Rodríguez</td>\n",
       "      <td>Europe</td>\n",
       "    </tr>\n",
       "    <tr>\n",
       "      <td>2</td>\n",
       "      <td>2</td>\n",
       "      <td>US</td>\n",
       "      <td>Mac Watson honors the memory of a wine once ma...</td>\n",
       "      <td>Special Selected Late Harvest</td>\n",
       "      <td>96</td>\n",
       "      <td>90.0</td>\n",
       "      <td>California</td>\n",
       "      <td>Knights Valley</td>\n",
       "      <td>Sonoma</td>\n",
       "      <td>Sauvignon Blanc</td>\n",
       "      <td>Macauley</td>\n",
       "      <td>North America</td>\n",
       "    </tr>\n",
       "    <tr>\n",
       "      <td>3</td>\n",
       "      <td>3</td>\n",
       "      <td>US</td>\n",
       "      <td>This spent 20 months in 30% new French oak, an...</td>\n",
       "      <td>Reserve</td>\n",
       "      <td>96</td>\n",
       "      <td>65.0</td>\n",
       "      <td>Oregon</td>\n",
       "      <td>Willamette Valley</td>\n",
       "      <td>Willamette Valley</td>\n",
       "      <td>Pinot Noir</td>\n",
       "      <td>Ponzi</td>\n",
       "      <td>North America</td>\n",
       "    </tr>\n",
       "    <tr>\n",
       "      <td>4</td>\n",
       "      <td>4</td>\n",
       "      <td>France</td>\n",
       "      <td>This is the top wine from La Bégude, named aft...</td>\n",
       "      <td>La Brûlade</td>\n",
       "      <td>95</td>\n",
       "      <td>66.0</td>\n",
       "      <td>Provence</td>\n",
       "      <td>Bandol</td>\n",
       "      <td>NaN</td>\n",
       "      <td>Provence red blend</td>\n",
       "      <td>Domaine de la Bégude</td>\n",
       "      <td>Europe</td>\n",
       "    </tr>\n",
       "  </tbody>\n",
       "</table>\n",
       "</div>"
      ],
      "text/plain": [
       "   Unnamed: 0 country                                        description  \\\n",
       "0           0      US  This tremendous 100% varietal wine hails from ...   \n",
       "1           1   Spain  Ripe aromas of fig, blackberry and cassis are ...   \n",
       "2           2      US  Mac Watson honors the memory of a wine once ma...   \n",
       "3           3      US  This spent 20 months in 30% new French oak, an...   \n",
       "4           4  France  This is the top wine from La Bégude, named aft...   \n",
       "\n",
       "                            designation  points  price        province  \\\n",
       "0                     Martha's Vineyard      96  235.0      California   \n",
       "1  Carodorum Selección Especial Reserva      96  110.0  Northern Spain   \n",
       "2         Special Selected Late Harvest      96   90.0      California   \n",
       "3                               Reserve      96   65.0          Oregon   \n",
       "4                            La Brûlade      95   66.0        Provence   \n",
       "\n",
       "            region_1           region_2             variety  \\\n",
       "0        Napa Valley               Napa  Cabernet Sauvignon   \n",
       "1               Toro                NaN       Tinta de Toro   \n",
       "2     Knights Valley             Sonoma     Sauvignon Blanc   \n",
       "3  Willamette Valley  Willamette Valley          Pinot Noir   \n",
       "4             Bandol                NaN  Provence red blend   \n",
       "\n",
       "                    winery      continent  \n",
       "0                    Heitz  North America  \n",
       "1  Bodega Carmen Rodríguez         Europe  \n",
       "2                 Macauley  North America  \n",
       "3                    Ponzi  North America  \n",
       "4     Domaine de la Bégude         Europe  "
      ]
     },
     "execution_count": 795,
     "metadata": {},
     "output_type": "execute_result"
    }
   ],
   "source": [
    "#creating a function that will check the countries within each of the rows and give the correct continent to it\n",
    "#and also create a column titled 'continents' which display the correspoinding continent of the country within that row\n",
    "\n",
    "#creating a list of continents with all the countries listed within the data frame\n",
    "asia = ['Israel', 'Japan', 'China', 'South Korea']\n",
    "europe = ['Spain', 'France', 'Italy', 'Bulgaria', 'Portugal','Greece', 'Romania', 'Germany', \n",
    "        'Moldova', 'Hungary', 'Austria', 'Croatia', 'Slovenia', 'India','Turkey', 'Macedonia', 'Lebanon',\n",
    "        'Serbia','Switzerland', 'Albania', 'Bosnia and Herzegovina','Cyprus',\n",
    "        'England','Ukraine','Georgia', 'Montenegro', 'Luxembourg', 'Slovakia', 'Czech Republic']\n",
    "africa = ['South Africa', 'Morocco', 'Lithuania']\n",
    "northAmerica = ['US', 'Canada','Mexico']\n",
    "southAmerica = ['Argentina', 'Chile','Brazil', 'Uruguay']\n",
    "oceania = ['New Zealand','Australia']\n",
    "other = ['US-France']\n",
    "\n",
    "#creating a function to display the corresponding continents\n",
    "def GetContinent(c):\n",
    "    if c in asia:\n",
    "        return \"Asia\"\n",
    "    elif c in northAmerica:\n",
    "        return \"North America\"\n",
    "    elif c in southAmerica:\n",
    "        return \"South America\"\n",
    "    elif c in oceania:\n",
    "        return \"Oceania\"\n",
    "    elif c in europe:\n",
    "        return \"Europe\"\n",
    "    elif c in africa:\n",
    "        return \"Africa\"\n",
    "    else:\n",
    "        return \"Other\"\n",
    "\n",
    "df['continent'] = df['country'].apply(lambda x: GetContinent(x))\n",
    "df.head()"
   ]
  },
  {
   "cell_type": "code",
   "execution_count": 796,
   "metadata": {},
   "outputs": [
    {
     "data": {
      "text/plain": [
       "array(['North America', 'Europe', 'Oceania', 'South America', 'Asia',\n",
       "       'Africa', 'Other'], dtype=object)"
      ]
     },
     "execution_count": 796,
     "metadata": {},
     "output_type": "execute_result"
    }
   ],
   "source": [
    "#checking to see if the previous code had worked\n",
    "df.continent.unique()"
   ]
  },
  {
   "cell_type": "code",
   "execution_count": 797,
   "metadata": {},
   "outputs": [],
   "source": [
    "#assiging other continents such as US-France as df_other\n",
    "df_other = df[df['continent']=='Other']"
   ]
  },
  {
   "cell_type": "code",
   "execution_count": 798,
   "metadata": {},
   "outputs": [
    {
     "data": {
      "text/plain": [
       "1"
      ]
     },
     "execution_count": 798,
     "metadata": {},
     "output_type": "execute_result"
    }
   ],
   "source": [
    "#checking length of df_other\n",
    "len(df_other)"
   ]
  },
  {
   "cell_type": "code",
   "execution_count": 799,
   "metadata": {},
   "outputs": [],
   "source": [
    "#dropping null values of country and price\n",
    "df.dropna(subset=['country','price'], inplace=True)\n",
    "#reseting the index\n",
    "df.reset_index(drop=True, inplace=True)"
   ]
  },
  {
   "cell_type": "code",
   "execution_count": 800,
   "metadata": {},
   "outputs": [
    {
     "data": {
      "text/plain": [
       "Unnamed: 0         0\n",
       "country            0\n",
       "description        0\n",
       "designation    42311\n",
       "points             0\n",
       "price              0\n",
       "province           0\n",
       "region_1       22837\n",
       "region_2       76526\n",
       "variety            0\n",
       "winery             0\n",
       "continent          0\n",
       "dtype: int64"
      ]
     },
     "execution_count": 800,
     "metadata": {},
     "output_type": "execute_result"
    }
   ],
   "source": [
    "#checking the amount of null values in the dataframe\n",
    "df.isna().sum()"
   ]
  },
  {
   "cell_type": "code",
   "execution_count": 801,
   "metadata": {},
   "outputs": [],
   "source": [
    "#grouping the data based on their continents and creating a new data frame, one for each of the continents\n",
    "dfEurope=df.loc[df['continent']=='Europe']\n",
    "dfAsia=df.loc[df['continent']=='Asia']\n",
    "dfAfrica=df.loc[df['continent']=='Africa']\n",
    "dfNA=df.loc[df['continent']=='North america']"
   ]
  },
  {
   "cell_type": "markdown",
   "metadata": {},
   "source": [
    "<br><br>"
   ]
  },
  {
   "cell_type": "markdown",
   "metadata": {},
   "source": [
    "# <b>STATISTICAL TESTING"
   ]
  },
  {
   "cell_type": "markdown",
   "metadata": {},
   "source": [
    "Testing the data using multiple methods including sample t-tests, Anova, and effect size with cohen's d."
   ]
  },
  {
   "cell_type": "markdown",
   "metadata": {},
   "source": [
    "<B><u>CREATING FUNCTIONS FOR EACH OF THE TESTS:"
   ]
  },
  {
   "cell_type": "markdown",
   "metadata": {},
   "source": [
    "<b>SHAPIRO WILK TEST"
   ]
  },
  {
   "cell_type": "markdown",
   "metadata": {},
   "source": [
    "The Shapiro–Wilk test, tests normality tests on whether the null hypothesis is using a sample came from a normally distributed population."
   ]
  },
  {
   "cell_type": "code",
   "execution_count": 802,
   "metadata": {},
   "outputs": [],
   "source": [
    "#function for Shapiro-Wilk test\n",
    "def sw_test (data):\n",
    "    '''Null: Data is normally distributed\n",
    "    Alternate: Data is not normally distributed.\n",
    "    If p value < 0.05 then reject null.'''\n",
    "    if stats.shapiro(data)[1]<.05:\n",
    "        print('The sample is not normally distributed')\n",
    "        return stats.shapiro(data)\n",
    "    else:\n",
    "        print('The sample is normally distributed')\n",
    "        return stats.shapiro(data)"
   ]
  },
  {
   "cell_type": "markdown",
   "metadata": {},
   "source": [
    "<B>WELCH'S T-TEST"
   ]
  },
  {
   "cell_type": "markdown",
   "metadata": {},
   "source": [
    "Welch's t-test, a two-sample location test which is used to test the hypothesis that two populations have equal means."
   ]
  },
  {
   "cell_type": "code",
   "execution_count": 803,
   "metadata": {},
   "outputs": [],
   "source": [
    "#function for Welch's t-test\n",
    "def welch_t(a,b, equal_var=False,describe = True ):\n",
    "    #Calculate degrees of freedom\n",
    "    dof_num = (a.var()/a.size + b.var()/b.size)**2\n",
    "    dof_den =(a.var()/a.size)**2 / (a.size-1) + (b.var()/b.size)**2 / (b.size-1)\n",
    "    dof = dof_num/dof_den\n",
    "    #Perform Welch's t-test\n",
    "    test, p_val = stats.ttest_ind(a,b, equal_var = equal_var)\n",
    "    if describe:\n",
    "        print(f\"Welch's t-test = {test}\\np-value: {p_val}\\nDoF: {dof}\")\n",
    "        #Print decision.\n",
    "        if p_val<0.05:\n",
    "            print('Decision: Reject the null hypothesis')\n",
    "        else:\n",
    "            print('Decision: Fail to reject the null hypothesis')\n",
    "    return stats.ttest_ind(a,b, equal_var = False)"
   ]
  },
  {
   "cell_type": "markdown",
   "metadata": {},
   "source": [
    "<b>ANOVA"
   ]
  },
  {
   "cell_type": "markdown",
   "metadata": {},
   "source": [
    "ANOVA (Analysis of Variance) is a method for generalizing statistical tests to multiple groups.  "
   ]
  },
  {
   "cell_type": "code",
   "execution_count": 804,
   "metadata": {},
   "outputs": [],
   "source": [
    "#ANOVA function\n",
    "def ANOVA(formula,data, decision=True):\n",
    "    lm = ols(formula,data).fit()\n",
    "    result = sm.stats.anova_lm(lm, typ=1)\n",
    "    if decision:\n",
    "        if result['PR(>F)'][0]>0.05:\n",
    "            print('Fail to reject the Null Hypothesis')\n",
    "        else:\n",
    "            print('Reject the Null Hypothesis')\n",
    "    return result"
   ]
  },
  {
   "cell_type": "markdown",
   "metadata": {},
   "source": [
    "<b>COHEN'S D EFFECT SIZE"
   ]
  },
  {
   "cell_type": "markdown",
   "metadata": {},
   "source": [
    "Cohen's d is an appropriate effect size for the comparison between two means."
   ]
  },
  {
   "cell_type": "code",
   "execution_count": 805,
   "metadata": {},
   "outputs": [],
   "source": [
    "#Cohen's d Effect size function\n",
    "def cohen_d(a,b, describe = True):\n",
    "    a_n,b_n = len(a),len(b)\n",
    "    \n",
    "    pv_num = ((a_n-1)*a.var())+((b_n-1)*b.var())\n",
    "    pv_den = a_n+b_n\n",
    "    pooled_sd = np.sqrt(pv_num/pv_den)\n",
    "    d = (a.mean()-b.mean())/pooled_sd\n",
    "    if describe:\n",
    "        print(\"Cohens'd: \",d)\n",
    "        if d<0.20:\n",
    "            print('Effect Size: Very Small')\n",
    "        elif d<0.50:\n",
    "            print('Effect Size: Small')\n",
    "        elif d<0.80:\n",
    "            print('Effect Size: Medium')\n",
    "        else:\n",
    "            print('Effect Size: Large')\n",
    "    return d\n"
   ]
  },
  {
   "cell_type": "markdown",
   "metadata": {},
   "source": [
    "<BR><br>"
   ]
  },
  {
   "cell_type": "markdown",
   "metadata": {},
   "source": [
    "# <b>HYPOTHESIS 1 (WELCH'S T-TEST)</b>"
   ]
  },
  {
   "cell_type": "markdown",
   "metadata": {},
   "source": [
    "<b>Hypothesis 1:</b> Europe has higher mean price than the rest of the world\n",
    "    <br>h0: Europe price mean = World price mean\n",
    "    <br>ha: Europe price mean > World price mean"
   ]
  },
  {
   "cell_type": "code",
   "execution_count": 806,
   "metadata": {},
   "outputs": [
    {
     "data": {
      "text/html": [
       "<div>\n",
       "<style scoped>\n",
       "    .dataframe tbody tr th:only-of-type {\n",
       "        vertical-align: middle;\n",
       "    }\n",
       "\n",
       "    .dataframe tbody tr th {\n",
       "        vertical-align: top;\n",
       "    }\n",
       "\n",
       "    .dataframe thead th {\n",
       "        text-align: right;\n",
       "    }\n",
       "</style>\n",
       "<table border=\"1\" class=\"dataframe\">\n",
       "  <thead>\n",
       "    <tr style=\"text-align: right;\">\n",
       "      <th></th>\n",
       "      <th>continent</th>\n",
       "      <th>price</th>\n",
       "    </tr>\n",
       "  </thead>\n",
       "  <tbody>\n",
       "    <tr>\n",
       "      <td>0</td>\n",
       "      <td>Africa</td>\n",
       "      <td>21.078866</td>\n",
       "    </tr>\n",
       "    <tr>\n",
       "      <td>1</td>\n",
       "      <td>Asia</td>\n",
       "      <td>31.113086</td>\n",
       "    </tr>\n",
       "    <tr>\n",
       "      <td>2</td>\n",
       "      <td>Europe</td>\n",
       "      <td>36.597164</td>\n",
       "    </tr>\n",
       "    <tr>\n",
       "      <td>3</td>\n",
       "      <td>North America</td>\n",
       "      <td>33.652237</td>\n",
       "    </tr>\n",
       "    <tr>\n",
       "      <td>4</td>\n",
       "      <td>Oceania</td>\n",
       "      <td>28.527248</td>\n",
       "    </tr>\n",
       "    <tr>\n",
       "      <td>5</td>\n",
       "      <td>Other</td>\n",
       "      <td>50.000000</td>\n",
       "    </tr>\n",
       "    <tr>\n",
       "      <td>6</td>\n",
       "      <td>South America</td>\n",
       "      <td>20.101021</td>\n",
       "    </tr>\n",
       "  </tbody>\n",
       "</table>\n",
       "</div>"
      ],
      "text/plain": [
       "       continent      price\n",
       "0         Africa  21.078866\n",
       "1           Asia  31.113086\n",
       "2         Europe  36.597164\n",
       "3  North America  33.652237\n",
       "4        Oceania  28.527248\n",
       "5          Other  50.000000\n",
       "6  South America  20.101021"
      ]
     },
     "execution_count": 806,
     "metadata": {},
     "output_type": "execute_result"
    }
   ],
   "source": [
    "#obtaining the mean price of wines within each continent\n",
    "df.groupby(['continent'])['price'].mean().reset_index()"
   ]
  },
  {
   "cell_type": "code",
   "execution_count": 807,
   "metadata": {},
   "outputs": [],
   "source": [
    "#assiging prices in europe to a dataframe\n",
    "dfEurope = df.loc[df.continent == 'Europe']\n",
    "\n",
    "#assigning prices in the rest of the world to a dataframe\n",
    "dfWorld = df.loc[df.continent != 'Europe']"
   ]
  },
  {
   "cell_type": "code",
   "execution_count": 808,
   "metadata": {},
   "outputs": [
    {
     "data": {
      "text/plain": [
       "52530"
      ]
     },
     "execution_count": 808,
     "metadata": {},
     "output_type": "execute_result"
    }
   ],
   "source": [
    "#checking the length of the data within dfEurope\n",
    "len(dfEurope)"
   ]
  },
  {
   "cell_type": "code",
   "execution_count": 809,
   "metadata": {},
   "outputs": [],
   "source": [
    "#obtaining samples for each\n",
    "dfEurope = dfEurope.sample(n=200)\n",
    "dfWorld = dfWorld.sample(n=200)"
   ]
  },
  {
   "cell_type": "code",
   "execution_count": 810,
   "metadata": {},
   "outputs": [
    {
     "data": {
      "image/png": "[encoded data removed]",
      "text/plain": [
       "<Figure size 432x288 with 1 Axes>"
      ]
     },
     "metadata": {
      "needs_background": "light"
     },
     "output_type": "display_data"
    },
    {
     "data": {
      "text/plain": [
       "NormaltestResult(statistic=215.63586911237877, pvalue=1.4971522662559224e-47)"
      ]
     },
     "execution_count": 810,
     "metadata": {},
     "output_type": "execute_result"
    }
   ],
   "source": [
    "#running a qq plot\n",
    "sm.qqplot(dfEurope.price)\n",
    "plt.title('Europe mean price')\n",
    "py.show()\n",
    "\n",
    "#running a normal test to see if sample differs from a normal distribution\n",
    "stats.normaltest(dfEurope.price)"
   ]
  },
  {
   "cell_type": "code",
   "execution_count": 811,
   "metadata": {},
   "outputs": [
    {
     "data": {
      "image/png": "[encoded data removed]",
      "text/plain": [
       "<Figure size 432x288 with 1 Axes>"
      ]
     },
     "metadata": {
      "needs_background": "light"
     },
     "output_type": "display_data"
    },
    {
     "data": {
      "text/plain": [
       "NormaltestResult(statistic=136.25543544383862, pvalue=2.585283227964141e-30)"
      ]
     },
     "execution_count": 811,
     "metadata": {},
     "output_type": "execute_result"
    }
   ],
   "source": [
    "#running a qq plot\n",
    "sm.qqplot(dfWorld.price)\n",
    "plt.title('World mean price')\n",
    "py.show()\n",
    "\n",
    "#running a normal test to see if sample differs from a normal distribution\n",
    "stats.normaltest(dfWorld.price)"
   ]
  },
  {
   "cell_type": "markdown",
   "metadata": {},
   "source": [
    "For the normaltest resuls from both of the tests it gave a pvalue>0.5 therefore they are not normal distributions."
   ]
  },
  {
   "cell_type": "code",
   "execution_count": 812,
   "metadata": {},
   "outputs": [
    {
     "data": {
      "text/plain": [
       "<matplotlib.axes._subplots.AxesSubplot at 0x2220fc81b88>"
      ]
     },
     "execution_count": 812,
     "metadata": {},
     "output_type": "execute_result"
    },
    {
     "data": {
      "image/png": "[encoded data removed]",
      "text/plain": [
       "<Figure size 432x288 with 1 Axes>"
      ]
     },
     "metadata": {
      "needs_background": "light"
     },
     "output_type": "display_data"
    }
   ],
   "source": [
    "sns.distplot(dfEurope.price)\n",
    "sns.distplot(dfWorld.price)"
   ]
  },
  {
   "cell_type": "code",
   "execution_count": 813,
   "metadata": {},
   "outputs": [],
   "source": [
    "#creating a function to help in the creation of the visualization\n",
    "def plot_compare(Europe,World, title ='Prices of wines within Europe vs the world',\n",
    "                labelEurope = 'Europe', labelWorld='World'):\n",
    "    \n",
    "    sns.distplot(Europe, label=labelEurope, \n",
    "             color='blue', hist_kws=dict(alpha=.3))\n",
    "    sns.distplot(World, label=labelWorld,\n",
    "            color='orange', hist_kws=dict(alpha=.3))\n",
    "    \n",
    "    plt.axvline(dfEurope.price.mean(), 0,1, color='blue', \n",
    "            linestyle='--', label='Mean: '+str(round(Europe.mean(),2)))\n",
    "    plt.axvline(dfWorld.price.mean(), 0,1, color='orange', \n",
    "            linestyle='--', label='Mean: '+str(round(World.mean(),2) ))\n",
    "\n",
    "    plt.title(title)\n",
    "    plt.ylabel('frequency')\n",
    "    plt.legend()\n",
    "    plt.show();\n",
    "    print(labelEurope+' mean: ',round(Europe.mean()))\n",
    "    print(labelWorld+' mean: ',round(World.mean()))\n",
    "    print('Point difference: ',\n",
    "          round((Europe.mean()-World.mean())/World.mean()*100, 2),'%')\n",
    "   "
   ]
  },
  {
   "cell_type": "code",
   "execution_count": 814,
   "metadata": {},
   "outputs": [
    {
     "data": {
      "image/png": "[encoded data removed]",
      "text/plain": [
       "<Figure size 576x432 with 1 Axes>"
      ]
     },
     "metadata": {
      "needs_background": "light"
     },
     "output_type": "display_data"
    },
    {
     "name": "stdout",
     "output_type": "stream",
     "text": [
      "Europe mean:  36\n",
      "World mean:  29\n",
      "Point difference:  26.03 %\n"
     ]
    }
   ],
   "source": [
    "#graphing the graph comparing wine prices between Europe and the world\n",
    "fig = plt.figure(figsize=(8,6))\n",
    "plot_compare(dfEurope.price,dfWorld.price, title ='Prices of wine in Europe vs World',\n",
    "                labelEurope = 'Europe', labelWorld='World')"
   ]
  },
  {
   "cell_type": "markdown",
   "metadata": {},
   "source": [
    "Both of the prices from Europe and the world are evidently not normally distributed, with the even bell curve, and instead fall too far to the left. Aside from that this graph it can be seen that there is a much more higher and significant mean in the prices in Europe vs the world. To further check the significance in the results and if the sample came from a normally distributed population a Shapiro–Wilk t-test will be conducted."
   ]
  },
  {
   "cell_type": "code",
   "execution_count": 842,
   "metadata": {},
   "outputs": [
    {
     "name": "stdout",
     "output_type": "stream",
     "text": [
      "The sample is not normally distributed\n",
      "The sample is not normally distributed\n"
     ]
    }
   ],
   "source": [
    "#Test both samples for normality\n",
    "swEuropePrice =  sw_test(dfEurope.price)\n",
    "swWorldPrice = sw_test(dfWorld.price)"
   ]
  },
  {
   "cell_type": "markdown",
   "metadata": {},
   "source": [
    "Both of the data in the dataframe with the prices column have varying prices. Even after altering the original sample size of 200 to around 10-50 the world prices appeared to be not normally distrubuted but the mean prices within europe imporved but still remained not normally distributed."
   ]
  },
  {
   "cell_type": "markdown",
   "metadata": {},
   "source": [
    "Following this i went on to check is the samples came from populations that have equal variances with the use of Levene's test"
   ]
  },
  {
   "cell_type": "code",
   "execution_count": 816,
   "metadata": {},
   "outputs": [
    {
     "name": "stdout",
     "output_type": "stream",
     "text": [
      "Input samples are not from populations with equal variances.\n"
     ]
    }
   ],
   "source": [
    "#Perfom Levene test on both samples\n",
    "if stats.levene(dfEurope.price,dfWorld.price)[1]<0.05:\n",
    "    print('Input samples are not from populations with equal variances.')\n",
    "else:\n",
    "    print('Input samples are from populations with equal variances.')"
   ]
  },
  {
   "cell_type": "markdown",
   "metadata": {},
   "source": [
    "From this we can see that the samples do not have equal variances. So therefore a welch's t test will be run to check how significantly different the sample means are. Welch's t-test will be used since the populations do not have equal variances."
   ]
  },
  {
   "cell_type": "code",
   "execution_count": 817,
   "metadata": {
    "scrolled": true
   },
   "outputs": [
    {
     "name": "stdout",
     "output_type": "stream",
     "text": [
      "Welch's t-test = 2.568738678249288\n",
      "p-value: 0.010686059645715994\n",
      "DoF: 302.76374911349023\n",
      "Decision: Reject the null hypothesis\n",
      "Cohens'd:  0.2575184707652354\n",
      "Effect Size: Small\n"
     ]
    }
   ],
   "source": [
    "#preforming a welch t test\n",
    "welch1 = welch_t(dfEurope.price,dfWorld.price)\n",
    "\n",
    "#preforming a cohens d test\n",
    "d = cohen_d(dfEurope.price,dfWorld.price)"
   ]
  },
  {
   "cell_type": "markdown",
   "metadata": {},
   "source": [
    "In conclusion from conducting the Welch's t test, it provided the results where the p-value is less than 0.05 indicats that the null hypothesis is false and that is should be rejected. Therefore we can say that Europe has the most expensive wines compared to the rest of the world."
   ]
  },
  {
   "cell_type": "markdown",
   "metadata": {},
   "source": [
    "<br><br>"
   ]
  },
  {
   "cell_type": "markdown",
   "metadata": {},
   "source": [
    "# <B>HYPOTHESIS 2 (INDEPENDENT T-TEST)"
   ]
  },
  {
   "cell_type": "markdown",
   "metadata": {},
   "source": [
    "<b>Hypothesis 2:</b> Europe has higher rated wines\n",
    "    <br>h0:Europe = World\n",
    "    <br>ha: Europe > World"
   ]
  },
  {
   "cell_type": "markdown",
   "metadata": {},
   "source": [
    "An independent t-test or two sample test will be conducted to test if there is a statistical significant difference between the two price means."
   ]
  },
  {
   "cell_type": "code",
   "execution_count": 827,
   "metadata": {},
   "outputs": [
    {
     "data": {
      "text/html": [
       "<div>\n",
       "<style scoped>\n",
       "    .dataframe tbody tr th:only-of-type {\n",
       "        vertical-align: middle;\n",
       "    }\n",
       "\n",
       "    .dataframe tbody tr th {\n",
       "        vertical-align: top;\n",
       "    }\n",
       "\n",
       "    .dataframe thead th {\n",
       "        text-align: right;\n",
       "    }\n",
       "</style>\n",
       "<table border=\"1\" class=\"dataframe\">\n",
       "  <thead>\n",
       "    <tr style=\"text-align: right;\">\n",
       "      <th></th>\n",
       "      <th>continent</th>\n",
       "      <th>points</th>\n",
       "    </tr>\n",
       "  </thead>\n",
       "  <tbody>\n",
       "    <tr>\n",
       "      <td>0</td>\n",
       "      <td>Africa</td>\n",
       "      <td>87.206026</td>\n",
       "    </tr>\n",
       "    <tr>\n",
       "      <td>1</td>\n",
       "      <td>Asia</td>\n",
       "      <td>87.087237</td>\n",
       "    </tr>\n",
       "    <tr>\n",
       "      <td>2</td>\n",
       "      <td>Europe</td>\n",
       "      <td>88.155473</td>\n",
       "    </tr>\n",
       "    <tr>\n",
       "      <td>3</td>\n",
       "      <td>North America</td>\n",
       "      <td>87.815373</td>\n",
       "    </tr>\n",
       "    <tr>\n",
       "      <td>4</td>\n",
       "      <td>Oceania</td>\n",
       "      <td>87.750879</td>\n",
       "    </tr>\n",
       "    <tr>\n",
       "      <td>5</td>\n",
       "      <td>Other</td>\n",
       "      <td>88.000000</td>\n",
       "    </tr>\n",
       "    <tr>\n",
       "      <td>6</td>\n",
       "      <td>South America</td>\n",
       "      <td>86.133647</td>\n",
       "    </tr>\n",
       "  </tbody>\n",
       "</table>\n",
       "</div>"
      ],
      "text/plain": [
       "       continent     points\n",
       "0         Africa  87.206026\n",
       "1           Asia  87.087237\n",
       "2         Europe  88.155473\n",
       "3  North America  87.815373\n",
       "4        Oceania  87.750879\n",
       "5          Other  88.000000\n",
       "6  South America  86.133647"
      ]
     },
     "execution_count": 827,
     "metadata": {},
     "output_type": "execute_result"
    }
   ],
   "source": [
    "#obtaining the mean points of wines within each continent\n",
    "df.groupby(['continent'])['points'].mean().reset_index()"
   ]
  },
  {
   "cell_type": "code",
   "execution_count": 828,
   "metadata": {},
   "outputs": [
    {
     "data": {
      "image/png": "[encoded data removed]",
      "text/plain": [
       "<Figure size 720x216 with 1 Axes>"
      ]
     },
     "metadata": {
      "needs_background": "light"
     },
     "output_type": "display_data"
    }
   ],
   "source": [
    "# visualization showing point distribution\n",
    "plt.figure(figsize=(10,3))\n",
    "\n",
    "plt.subplot(1,1,1) \n",
    "g = sns.countplot(x='points', data=df, palette='ocean') \n",
    "g.set_title(\"Points distribuition \")\n",
    "g.set_xlabel(\"Point\") \n",
    "g.set_ylabel(\"Frequency\") \n",
    "plt.show() "
   ]
  },
  {
   "cell_type": "code",
   "execution_count": 829,
   "metadata": {},
   "outputs": [],
   "source": [
    "#obtaining sample size from dfEurope and dfWorld\n",
    "dfEurope = dfEurope.sample(n=200)\n",
    "dfWorld = dfWorld.sample(n=200)"
   ]
  },
  {
   "cell_type": "code",
   "execution_count": 830,
   "metadata": {
    "scrolled": true
   },
   "outputs": [
    {
     "data": {
      "text/plain": [
       "<matplotlib.axes._subplots.AxesSubplot at 0x22216eb9c48>"
      ]
     },
     "execution_count": 830,
     "metadata": {},
     "output_type": "execute_result"
    },
    {
     "data": {
      "image/png": "[encoded data removed]",
      "text/plain": [
       "<Figure size 432x288 with 1 Axes>"
      ]
     },
     "metadata": {
      "needs_background": "light"
     },
     "output_type": "display_data"
    }
   ],
   "source": [
    "#distribution plots\n",
    "sns.distplot(dfEurope.points)\n",
    "sns.distplot(dfWorld.points)"
   ]
  },
  {
   "cell_type": "code",
   "execution_count": 831,
   "metadata": {},
   "outputs": [],
   "source": [
    "#creating a function to help in the creation of the visualization\n",
    "def plot_compare(Europe,World, title ='Points of wines within Europe vs the world',\n",
    "                labelEurope = 'Europe', labelWorld='World'):\n",
    "    \n",
    "    sns.distplot(Europe, label=labelEurope, \n",
    "             color='blue', hist_kws=dict(alpha=.3))\n",
    "    sns.distplot(World, label=labelWorld,\n",
    "            color='orange', hist_kws=dict(alpha=.3))\n",
    "    \n",
    "    plt.axvline(dfEurope.points.mean(), 0,1, color='blue', \n",
    "            linestyle='--', label='Mean: '+str(round(Europe.mean(),2)))\n",
    "    plt.axvline(dfWorld.points.mean(), 0,1, color='orange', \n",
    "            linestyle='--', label='Mean: '+str(round(World.mean(),2) ))\n",
    "\n",
    "    plt.title(title)\n",
    "    plt.ylabel('frequency')\n",
    "    plt.legend()\n",
    "    plt.show();\n",
    "    print(labelEurope+' mean: ',round(Europe.mean()))\n",
    "    print(labelWorld+' mean: ',round(World.mean()))\n",
    "    print('Point difference: ',\n",
    "          round((Europe.mean()-World.mean())/World.mean()*100, 2),'%')\n",
    "   "
   ]
  },
  {
   "cell_type": "code",
   "execution_count": 832,
   "metadata": {
    "scrolled": false
   },
   "outputs": [
    {
     "data": {
      "image/png": "[encoded data removed]",
      "text/plain": [
       "<Figure size 576x432 with 1 Axes>"
      ]
     },
     "metadata": {
      "needs_background": "light"
     },
     "output_type": "display_data"
    },
    {
     "name": "stdout",
     "output_type": "stream",
     "text": [
      "Europe mean:  88\n",
      "World mean:  88\n",
      "Point difference:  0.74 %\n"
     ]
    }
   ],
   "source": [
    "fig = plt.figure(figsize=(8,6))\n",
    "plot_compare(dfEurope.points,dfWorld.points, title ='Points of wines within Europe vs the world',\n",
    "                labelEurope = 'Europe', labelWorld='World')"
   ]
  },
  {
   "cell_type": "markdown",
   "metadata": {},
   "source": [
    "With the results given from these graphs, there is an evident normal distribution that can be seen, as appose to the previous graph where the prices were compared which did not have a normal distribution. "
   ]
  },
  {
   "cell_type": "code",
   "execution_count": 833,
   "metadata": {},
   "outputs": [
    {
     "name": "stdout",
     "output_type": "stream",
     "text": [
      "The sample is not normally distributed\n",
      "The sample is not normally distributed\n"
     ]
    }
   ],
   "source": [
    "#Test both samples for normality\n",
    "swEuropePoints =  sw_test(dfEurope.points)\n",
    "swWorldPoints = sw_test(dfWorld.points)"
   ]
  },
  {
   "cell_type": "code",
   "execution_count": 834,
   "metadata": {},
   "outputs": [
    {
     "name": "stdout",
     "output_type": "stream",
     "text": [
      "Input samples are from populations with equal variances.\n"
     ]
    }
   ],
   "source": [
    "#Perfom Levene test on both samples\n",
    "if stats.levene(dfEurope.points,dfWorld.points)[1]<0.05:\n",
    "    print('Input samples are not from populations with equal variances.')\n",
    "else:\n",
    "    print('Input samples are from populations with equal variances.')"
   ]
  },
  {
   "cell_type": "markdown",
   "metadata": {},
   "source": [
    "Since the input samples are from populations with equal variances, i will be using an independent t test as appose to a welch's t test."
   ]
  },
  {
   "cell_type": "code",
   "execution_count": 866,
   "metadata": {},
   "outputs": [
    {
     "data": {
      "text/plain": [
       "87.695"
      ]
     },
     "execution_count": 866,
     "metadata": {},
     "output_type": "execute_result"
    }
   ],
   "source": [
    "#getting means of europe and world prices\n",
    "europe=dfEurope.points\n",
    "world=dfWorld.points\n",
    "\n",
    "europe.mean()\n",
    "world.mean()"
   ]
  },
  {
   "cell_type": "code",
   "execution_count": 875,
   "metadata": {},
   "outputs": [
    {
     "data": {
      "text/plain": [
       "2.2155184796194036"
      ]
     },
     "execution_count": 875,
     "metadata": {},
     "output_type": "execute_result"
    }
   ],
   "source": [
    "#sample variance function\n",
    "def sample_variance(sample):\n",
    "    sample_mean = np.mean(sample)\n",
    "    return np.sum((sample - sample_mean) **2)/ (len(sample) -1)\n",
    "\n",
    "#pooled variane function\n",
    "def pooled_variance(sample1, sample2):\n",
    "    n_1, n_2 = len(sample1), len(sample2)\n",
    "    var_1, var_2 = sample_variance(sample1), sample_variance(sample2)\n",
    "    return ((n_1-1) * var_1 + (n_2-1)* var_2)/((n_1 + n_2)-2)\n",
    "#two sample t statistic function\n",
    "def twosample_tstatistic(expr, ctrl):\n",
    "    exp_mean, ctrl_mean = np.mean(expr), np.mean(ctrl)\n",
    "    pool_var = pooled_variance(expr, ctrl)\n",
    "    n_e, n_c = len(expr), len(ctrl)\n",
    "    num = exp_mean - ctrl_mean\n",
    "    denom = np.sqrt(pool_var * ((1/n_e)+(1/n_c)))\n",
    "    return num / denom\n",
    "\n",
    "t_stat = twosample_tstatistic(europe, world)\n",
    "t_stat"
   ]
  },
  {
   "cell_type": "code",
   "execution_count": 874,
   "metadata": {},
   "outputs": [
    {
     "data": {
      "text/plain": [
       "Ttest_indResult(statistic=2.2155184796194036, pvalue=0.027289810931629667)"
      ]
     },
     "execution_count": 874,
     "metadata": {},
     "output_type": "execute_result"
    }
   ],
   "source": [
    "#checks the results\n",
    "stats.ttest_ind(europe,world)"
   ]
  },
  {
   "cell_type": "markdown",
   "metadata": {},
   "source": [
    "In conclusion, we can reject the null hypothesis that Europe does not have the best rated wines"
   ]
  },
  {
   "cell_type": "markdown",
   "metadata": {},
   "source": [
    "<br><br>"
   ]
  },
  {
   "cell_type": "markdown",
   "metadata": {},
   "source": [
    "# <B>HYPOTHESIS 3 (ANOVA)"
   ]
  },
  {
   "cell_type": "markdown",
   "metadata": {},
   "source": [
    "<b>Hypothsis 3:</b> Most of the top varietys of wines are produced in Europe\n",
    "    <br>h0: Not in Europe\n",
    "    <br>ha: in Europe"
   ]
  },
  {
   "cell_type": "code",
   "execution_count": 836,
   "metadata": {
    "scrolled": true
   },
   "outputs": [
    {
     "data": {
      "text/html": [
       "<div>\n",
       "<style scoped>\n",
       "    .dataframe tbody tr th:only-of-type {\n",
       "        vertical-align: middle;\n",
       "    }\n",
       "\n",
       "    .dataframe tbody tr th {\n",
       "        vertical-align: top;\n",
       "    }\n",
       "\n",
       "    .dataframe thead th {\n",
       "        text-align: right;\n",
       "    }\n",
       "</style>\n",
       "<table border=\"1\" class=\"dataframe\">\n",
       "  <thead>\n",
       "    <tr style=\"text-align: right;\">\n",
       "      <th></th>\n",
       "      <th>continent</th>\n",
       "      <th>variety</th>\n",
       "      <th>points</th>\n",
       "    </tr>\n",
       "  </thead>\n",
       "  <tbody>\n",
       "    <tr>\n",
       "      <td>738</td>\n",
       "      <td>North America</td>\n",
       "      <td>Pinot Noir</td>\n",
       "      <td>913915</td>\n",
       "    </tr>\n",
       "    <tr>\n",
       "      <td>627</td>\n",
       "      <td>North America</td>\n",
       "      <td>Cabernet Sauvignon</td>\n",
       "      <td>810311</td>\n",
       "    </tr>\n",
       "    <tr>\n",
       "      <td>646</td>\n",
       "      <td>North America</td>\n",
       "      <td>Chardonnay</td>\n",
       "      <td>713672</td>\n",
       "    </tr>\n",
       "    <tr>\n",
       "      <td>449</td>\n",
       "      <td>Europe</td>\n",
       "      <td>Red Blend</td>\n",
       "      <td>430454</td>\n",
       "    </tr>\n",
       "    <tr>\n",
       "      <td>780</td>\n",
       "      <td>North America</td>\n",
       "      <td>Syrah</td>\n",
       "      <td>376763</td>\n",
       "    </tr>\n",
       "    <tr>\n",
       "      <td>821</td>\n",
       "      <td>North America</td>\n",
       "      <td>Zinfandel</td>\n",
       "      <td>328029</td>\n",
       "    </tr>\n",
       "    <tr>\n",
       "      <td>696</td>\n",
       "      <td>North America</td>\n",
       "      <td>Merlot</td>\n",
       "      <td>314579</td>\n",
       "    </tr>\n",
       "    <tr>\n",
       "      <td>744</td>\n",
       "      <td>North America</td>\n",
       "      <td>Red Blend</td>\n",
       "      <td>291139</td>\n",
       "    </tr>\n",
       "    <tr>\n",
       "      <td>183</td>\n",
       "      <td>Europe</td>\n",
       "      <td>Chardonnay</td>\n",
       "      <td>266620</td>\n",
       "    </tr>\n",
       "    <tr>\n",
       "      <td>455</td>\n",
       "      <td>Europe</td>\n",
       "      <td>Riesling</td>\n",
       "      <td>260254</td>\n",
       "    </tr>\n",
       "  </tbody>\n",
       "</table>\n",
       "</div>"
      ],
      "text/plain": [
       "         continent             variety  points\n",
       "738  North America          Pinot Noir  913915\n",
       "627  North America  Cabernet Sauvignon  810311\n",
       "646  North America          Chardonnay  713672\n",
       "449         Europe           Red Blend  430454\n",
       "780  North America               Syrah  376763\n",
       "821  North America           Zinfandel  328029\n",
       "696  North America              Merlot  314579\n",
       "744  North America           Red Blend  291139\n",
       "183         Europe          Chardonnay  266620\n",
       "455         Europe            Riesling  260254"
      ]
     },
     "execution_count": 836,
     "metadata": {},
     "output_type": "execute_result"
    }
   ],
   "source": [
    "#checking the top varieties of wine\n",
    "dfTopVariety=df.groupby(['continent','variety'])['points'].sum().reset_index().sort_values(by='points', ascending=False).head(10)\n",
    "dfTopVariety"
   ]
  },
  {
   "cell_type": "code",
   "execution_count": 837,
   "metadata": {},
   "outputs": [],
   "source": [
    "#creating a dataframe with all the points from Europe\n",
    "dfTopVarietyE = dfTopVariety.loc[dfTopVariety.continent == 'Europe']\n",
    "\n",
    "#creating a dataframe with all the points from all continents except Europe\n",
    "dfTopVarietyW = dfTopVariety.loc[dfTopVariety.continent != 'Europe']"
   ]
  },
  {
   "cell_type": "code",
   "execution_count": 838,
   "metadata": {},
   "outputs": [
    {
     "data": {
      "image/png": "[encoded data removed]",
      "text/plain": [
       "<Figure size 576x288 with 1 Axes>"
      ]
     },
     "metadata": {
      "needs_background": "light"
     },
     "output_type": "display_data"
    }
   ],
   "source": [
    "#Top varieties of wine\n",
    "fig,ax = plt.subplots(1,1,figsize=(8,4))\n",
    "\n",
    "cnt = df.groupby(['continent','variety'])['points'].sum().reset_index().sort_values(by='points', ascending=False)[:12]\n",
    "sns.barplot(y = cnt['points'], x = cnt['variety'], palette= 'inferno')\n",
    "ax.set_title('Top varieties')\n",
    "ax.set_ylabel('points')\n",
    "plt.xticks(rotation= 'vertical') \n",
    "ax.set_xlabel('variety')\n",
    "\n",
    "plt.subplots_adjust(wspace=0.3);"
   ]
  },
  {
   "cell_type": "code",
   "execution_count": 839,
   "metadata": {},
   "outputs": [
    {
     "data": {
      "text/plain": [
       "<matplotlib.axes._subplots.AxesSubplot at 0x2221a81d1c8>"
      ]
     },
     "execution_count": 839,
     "metadata": {},
     "output_type": "execute_result"
    },
    {
     "data": {
      "image/png": "[encoded data removed]",
      "text/plain": [
       "<Figure size 432x288 with 1 Axes>"
      ]
     },
     "metadata": {
      "needs_background": "light"
     },
     "output_type": "display_data"
    }
   ],
   "source": [
    "#creating a distribution plot for top varieties in europe\n",
    "sns.distplot(dfTopVarietyE.points)\n",
    "\n",
    "#creating a distribution plot for top varieties in the world\n",
    "sns.distplot(dfTopVarietyW.points)"
   ]
  },
  {
   "cell_type": "code",
   "execution_count": 840,
   "metadata": {},
   "outputs": [
    {
     "name": "stdout",
     "output_type": "stream",
     "text": [
      "Fail to reject the Null Hypothesis\n"
     ]
    },
    {
     "data": {
      "text/html": [
       "<div>\n",
       "<style scoped>\n",
       "    .dataframe tbody tr th:only-of-type {\n",
       "        vertical-align: middle;\n",
       "    }\n",
       "\n",
       "    .dataframe tbody tr th {\n",
       "        vertical-align: top;\n",
       "    }\n",
       "\n",
       "    .dataframe thead th {\n",
       "        text-align: right;\n",
       "    }\n",
       "</style>\n",
       "<table border=\"1\" class=\"dataframe\">\n",
       "  <thead>\n",
       "    <tr style=\"text-align: right;\">\n",
       "      <th></th>\n",
       "      <th>df</th>\n",
       "      <th>sum_sq</th>\n",
       "      <th>mean_sq</th>\n",
       "      <th>F</th>\n",
       "      <th>PR(&gt;F)</th>\n",
       "    </tr>\n",
       "  </thead>\n",
       "  <tbody>\n",
       "    <tr>\n",
       "      <td>C(continent)</td>\n",
       "      <td>1.0</td>\n",
       "      <td>9.832039e+10</td>\n",
       "      <td>9.832039e+10</td>\n",
       "      <td>1.143838</td>\n",
       "      <td>0.478627</td>\n",
       "    </tr>\n",
       "    <tr>\n",
       "      <td>variety</td>\n",
       "      <td>7.0</td>\n",
       "      <td>3.598844e+11</td>\n",
       "      <td>5.141206e+10</td>\n",
       "      <td>0.598117</td>\n",
       "      <td>0.762962</td>\n",
       "    </tr>\n",
       "    <tr>\n",
       "      <td>Residual</td>\n",
       "      <td>1.0</td>\n",
       "      <td>8.595656e+10</td>\n",
       "      <td>8.595656e+10</td>\n",
       "      <td>NaN</td>\n",
       "      <td>NaN</td>\n",
       "    </tr>\n",
       "  </tbody>\n",
       "</table>\n",
       "</div>"
      ],
      "text/plain": [
       "               df        sum_sq       mean_sq         F    PR(>F)\n",
       "C(continent)  1.0  9.832039e+10  9.832039e+10  1.143838  0.478627\n",
       "variety       7.0  3.598844e+11  5.141206e+10  0.598117  0.762962\n",
       "Residual      1.0  8.595656e+10  8.595656e+10       NaN       NaN"
      ]
     },
     "execution_count": 840,
     "metadata": {},
     "output_type": "execute_result"
    }
   ],
   "source": [
    "#running an ANOVA test\n",
    "formula = 'points ~ C(continent)+variety'\n",
    "ANOVA(formula,dfTopVariety)"
   ]
  },
  {
   "cell_type": "markdown",
   "metadata": {},
   "source": [
    "In conclusion, since the p values were greater than 0.05 i can accept the null hypothesis and say that the top varieties of wine are not produced in Europe despite Europe having the most expensive wines, and the highest mean in points as conducted from the previous two tests. Instead of Europe other places like North America with 7 out of 10 top rated wines coming from  there."
   ]
  },
  {
   "cell_type": "markdown",
   "metadata": {},
   "source": [
    "<br><br>"
   ]
  },
  {
   "cell_type": "markdown",
   "metadata": {},
   "source": [
    "# <B>FUTURE WORK"
   ]
  },
  {
   "cell_type": "markdown",
   "metadata": {},
   "source": [
    "<b>For future work:</b>\n",
    "<br>\n",
    "1. Review and further look into the point system, and the methods used to obtain such points for each of the wine varieties.\n",
    "\n",
    "2. Look into why certain wine varieties earn better ratings in some countries but not in others.\n"
   ]
  }
 ],
 "metadata": {
  "kernelspec": {
   "display_name": "Python 3",
   "language": "python",
   "name": "python3"
  },
  "language_info": {
   "codemirror_mode": {
    "name": "ipython",
    "version": 3
   },
   "file_extension": ".py",
   "mimetype": "text/x-python",
   "name": "python",
   "nbconvert_exporter": "python",
   "pygments_lexer": "ipython3",
   "version": "3.7.4"
  }
 },
 "nbformat": 4,
 "nbformat_minor": 2
}
